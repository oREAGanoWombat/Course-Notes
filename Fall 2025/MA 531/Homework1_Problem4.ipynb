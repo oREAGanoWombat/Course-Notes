{
 "cells": [
  {
   "metadata": {},
   "cell_type": "markdown",
   "source": [
    "# MA 531-001, Fall 2025, Homework 1\n",
    "## Problem 4\n",
    "*Modify the code from class to solve the following initial value problems numerically using both the backward and forward Euler method. Choose a step size which is appropriate, and compare with the exact analytical solutions. Also plot the solution found by a standard ODE solver, such as odeint in python.*\n",
    "1. $\\dot{x}(t) = (2t+1) \\cdot x(t)$, &emsp; &emsp; $x(0) = 2$, for $t\\in[0,5]$\n",
    "2. $\\dot{x}(t) = x+sin(t)$, &emsp; &emsp; $x(0) = -\\frac{1}{2}$, for $t\\in[0,5]$\n",
    "$$x_{i+1} = x_i + h(a(t_{i+1})x_{i+1} + g(t_{i+1}))$$"
   ],
   "id": "fb4060f7c3ee857a"
  },
  {
   "metadata": {
    "ExecuteTime": {
     "end_time": "2025-09-04T20:53:32.165565Z",
     "start_time": "2025-09-04T20:53:32.163511Z"
    }
   },
   "cell_type": "code",
   "source": [
    "# Requirements\n",
    "import numpy as np"
   ],
   "id": "7c34708f27fad223",
   "outputs": [],
   "execution_count": 2
  },
  {
   "metadata": {},
   "cell_type": "markdown",
   "source": "1. $\\dot{x}(t) = (2t+1) \\cdot x(t)$, &emsp; &emsp; $x(0) = 2$, for $t\\in[0,5]$\n",
   "id": "99cba2cf92f6c847"
  },
  {
   "metadata": {
    "ExecuteTime": {
     "end_time": "2025-09-04T21:00:59.594800Z",
     "start_time": "2025-09-04T21:00:59.591418Z"
    }
   },
   "cell_type": "code",
   "source": [
    "h = .5\n",
    "num_steps = int(np.ceil(5./h))\n",
    "print(num_steps)\n",
    "t = np.linspace(0,5,num_steps+1)\n",
    "print(t)\n",
    "h = 5./num_steps\n",
    "\n",
    "# set x to empty vector\n",
    "x = np.zeros(t.shape)\n",
    "print(x)\n",
    "\n",
    "# x(0) = 2\n",
    "x[0] = 2.\n",
    "for i in range(len(x)-1):\n",
    "    x[i+1] = (2*i+1)*x[i]/(1-h)\n",
    "print(x)\n",
    "\n",
    "print(np.exp(t))"
   ],
   "id": "3a8d2963bdaa95dc",
   "outputs": [
    {
     "name": "stdout",
     "output_type": "stream",
     "text": [
      "10\n",
      "[0.  0.5 1.  1.5 2.  2.5 3.  3.5 4.  4.5 5. ]\n",
      "[0. 0. 0. 0. 0. 0. 0. 0. 0. 0. 0.]\n",
      "[2.00000000e+00 4.00000000e+00 2.40000000e+01 2.40000000e+02\n",
      " 3.36000000e+03 6.04800000e+04 1.33056000e+06 3.45945600e+07\n",
      " 1.03783680e+09 3.52864512e+10 1.34088515e+12]\n",
      "[  1.           1.64872127   2.71828183   4.48168907   7.3890561\n",
      "  12.18249396  20.08553692  33.11545196  54.59815003  90.0171313\n",
      " 148.4131591 ]\n"
     ]
    }
   ],
   "execution_count": 9
  }
 ],
 "metadata": {
  "kernelspec": {
   "display_name": "Python 3",
   "language": "python",
   "name": "python3"
  },
  "language_info": {
   "codemirror_mode": {
    "name": "ipython",
    "version": 2
   },
   "file_extension": ".py",
   "mimetype": "text/x-python",
   "name": "python",
   "nbconvert_exporter": "python",
   "pygments_lexer": "ipython2",
   "version": "2.7.6"
  }
 },
 "nbformat": 4,
 "nbformat_minor": 5
}
