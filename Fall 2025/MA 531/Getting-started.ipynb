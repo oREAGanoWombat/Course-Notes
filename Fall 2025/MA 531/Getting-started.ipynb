{
 "cells": [
  {
   "cell_type": "code",
   "metadata": {
    "ExecuteTime": {
     "end_time": "2025-09-04T22:49:08.528323Z",
     "start_time": "2025-09-04T22:49:08.487074Z"
    }
   },
   "source": [
    "import numpy as np\n",
    "\n",
    "I = np.eye(5)"
   ],
   "outputs": [],
   "execution_count": 1
  },
  {
   "cell_type": "code",
   "metadata": {
    "ExecuteTime": {
     "end_time": "2025-09-04T22:49:08.625780Z",
     "start_time": "2025-09-04T22:49:08.623507Z"
    }
   },
   "source": [
    "print(I)"
   ],
   "outputs": [
    {
     "name": "stdout",
     "output_type": "stream",
     "text": [
      "[[1. 0. 0. 0. 0.]\n",
      " [0. 1. 0. 0. 0.]\n",
      " [0. 0. 1. 0. 0.]\n",
      " [0. 0. 0. 1. 0.]\n",
      " [0. 0. 0. 0. 1.]]\n"
     ]
    }
   ],
   "execution_count": 2
  },
  {
   "cell_type": "code",
   "metadata": {
    "ExecuteTime": {
     "end_time": "2025-09-04T22:49:09.195681Z",
     "start_time": "2025-09-04T22:49:09.193522Z"
    }
   },
   "source": [
    "b = np.array([1,2,3,4,5])"
   ],
   "outputs": [],
   "execution_count": 3
  },
  {
   "cell_type": "code",
   "metadata": {
    "ExecuteTime": {
     "end_time": "2025-09-04T22:49:09.742115Z",
     "start_time": "2025-09-04T22:49:09.739986Z"
    }
   },
   "source": [
    "print(b)"
   ],
   "outputs": [
    {
     "name": "stdout",
     "output_type": "stream",
     "text": [
      "[1 2 3 4 5]\n"
     ]
    }
   ],
   "execution_count": 4
  },
  {
   "cell_type": "code",
   "metadata": {
    "ExecuteTime": {
     "end_time": "2025-09-04T22:49:10.167518Z",
     "start_time": "2025-09-04T22:49:10.163874Z"
    }
   },
   "source": [
    "I.dot(b)"
   ],
   "outputs": [
    {
     "data": {
      "text/plain": [
       "array([1., 2., 3., 4., 5.])"
      ]
     },
     "execution_count": 5,
     "metadata": {},
     "output_type": "execute_result"
    }
   ],
   "execution_count": 5
  },
  {
   "cell_type": "markdown",
   "metadata": {},
   "source": [
    "Suppose that I want to solve the system $Ix=b$. Then I use the following code"
   ]
  },
  {
   "cell_type": "code",
   "metadata": {
    "ExecuteTime": {
     "end_time": "2025-09-04T22:49:10.944922Z",
     "start_time": "2025-09-04T22:49:10.940512Z"
    }
   },
   "source": [
    "import numpy.linalg as la\n",
    "\n",
    "la.solve(I,b)"
   ],
   "outputs": [
    {
     "data": {
      "text/plain": [
       "array([1., 2., 3., 4., 5.])"
      ]
     },
     "execution_count": 6,
     "metadata": {},
     "output_type": "execute_result"
    }
   ],
   "execution_count": 6
  },
  {
   "cell_type": "code",
   "metadata": {
    "ExecuteTime": {
     "end_time": "2025-09-04T22:49:11.330176Z",
     "start_time": "2025-09-04T22:49:11.327124Z"
    }
   },
   "source": [
    "A = np.zeros((3,3))"
   ],
   "outputs": [],
   "execution_count": 7
  },
  {
   "cell_type": "code",
   "metadata": {
    "ExecuteTime": {
     "end_time": "2025-09-04T22:49:11.706175Z",
     "start_time": "2025-09-04T22:49:11.703973Z"
    }
   },
   "source": [
    "print(A)"
   ],
   "outputs": [
    {
     "name": "stdout",
     "output_type": "stream",
     "text": [
      "[[0. 0. 0.]\n",
      " [0. 0. 0.]\n",
      " [0. 0. 0.]]\n"
     ]
    }
   ],
   "execution_count": 8
  },
  {
   "cell_type": "code",
   "metadata": {
    "ExecuteTime": {
     "end_time": "2025-09-04T22:49:12.068468Z",
     "start_time": "2025-09-04T22:49:12.066379Z"
    }
   },
   "source": [
    "for i in range(3):\n",
    "    for j in range(3):\n",
    "        A[i,j] = 3*i + j+1"
   ],
   "outputs": [],
   "execution_count": 9
  },
  {
   "cell_type": "code",
   "metadata": {
    "ExecuteTime": {
     "end_time": "2025-09-04T22:49:12.402315Z",
     "start_time": "2025-09-04T22:49:12.399903Z"
    }
   },
   "source": [
    "print(A)"
   ],
   "outputs": [
    {
     "name": "stdout",
     "output_type": "stream",
     "text": [
      "[[1. 2. 3.]\n",
      " [4. 5. 6.]\n",
      " [7. 8. 9.]]\n"
     ]
    }
   ],
   "execution_count": 10
  },
  {
   "cell_type": "code",
   "metadata": {
    "ExecuteTime": {
     "end_time": "2025-09-04T22:49:12.747466Z",
     "start_time": "2025-09-04T22:49:12.745642Z"
    }
   },
   "source": [
    "#print(A.dot(I))"
   ],
   "outputs": [],
   "execution_count": 11
  },
  {
   "cell_type": "code",
   "metadata": {
    "ExecuteTime": {
     "end_time": "2025-09-04T22:49:13.120283Z",
     "start_time": "2025-09-04T22:49:13.118528Z"
    }
   },
   "source": [
    "I = np.eye(3)"
   ],
   "outputs": [],
   "execution_count": 12
  },
  {
   "cell_type": "code",
   "metadata": {
    "ExecuteTime": {
     "end_time": "2025-09-04T22:49:13.479777Z",
     "start_time": "2025-09-04T22:49:13.477077Z"
    }
   },
   "source": [
    "print(A.dot(I))"
   ],
   "outputs": [
    {
     "name": "stdout",
     "output_type": "stream",
     "text": [
      "[[1. 2. 3.]\n",
      " [4. 5. 6.]\n",
      " [7. 8. 9.]]\n"
     ]
    }
   ],
   "execution_count": 13
  },
  {
   "cell_type": "code",
   "metadata": {
    "ExecuteTime": {
     "end_time": "2025-09-04T22:49:13.820165Z",
     "start_time": "2025-09-04T22:49:13.818036Z"
    }
   },
   "source": [
    "s = 'Hello my name is Ryan'"
   ],
   "outputs": [],
   "execution_count": 14
  },
  {
   "cell_type": "code",
   "metadata": {
    "ExecuteTime": {
     "end_time": "2025-09-04T22:49:14.185882Z",
     "start_time": "2025-09-04T22:49:14.183387Z"
    }
   },
   "source": [
    "print(s)"
   ],
   "outputs": [
    {
     "name": "stdout",
     "output_type": "stream",
     "text": [
      "Hello my name is Ryan\n"
     ]
    }
   ],
   "execution_count": 15
  },
  {
   "cell_type": "code",
   "metadata": {
    "ExecuteTime": {
     "end_time": "2025-09-04T22:49:14.601764Z",
     "start_time": "2025-09-04T22:49:14.599651Z"
    }
   },
   "source": [
    "l = [4,7,8,1]"
   ],
   "outputs": [],
   "execution_count": 16
  },
  {
   "cell_type": "code",
   "metadata": {
    "ExecuteTime": {
     "end_time": "2025-09-04T22:49:14.965583Z",
     "start_time": "2025-09-04T22:49:14.963220Z"
    }
   },
   "source": [
    "print(l)"
   ],
   "outputs": [
    {
     "name": "stdout",
     "output_type": "stream",
     "text": [
      "[4, 7, 8, 1]\n"
     ]
    }
   ],
   "execution_count": 17
  },
  {
   "cell_type": "code",
   "metadata": {
    "ExecuteTime": {
     "end_time": "2025-09-04T22:49:15.392855Z",
     "start_time": "2025-09-04T22:49:15.369454Z"
    }
   },
   "source": [
    "np.eye?"
   ],
   "outputs": [],
   "execution_count": 18
  },
  {
   "cell_type": "markdown",
   "metadata": {},
   "source": [
    "Now suppose that we want to solve the differential equation $\\dot x = x, x(0) = 1$. To solve this numerically, we need to numerically estimate derivatives. We use a difference scheme as follows:\n"
   ]
  },
  {
   "cell_type": "markdown",
   "metadata": {},
   "source": "$x_i = x(t_i), t_i = t_{i-1} +h, t_0 = 0$, then we approximate $x'(t_i) \\approx = \\frac{x_i - x_{i-1}}{h}$."
  },
  {
   "cell_type": "markdown",
   "metadata": {},
   "source": [
    "To solve the equation we then create a recurrence relation (there are different options!):\n",
    "\n",
    "$x_i - x_{i-1} = h x_{i-1}$ (Explicit Euler Scheme)\n",
    "$x_i - x_{i-1} = h x_i$ (Implicit Euler Scheme)"
   ]
  },
  {
   "cell_type": "markdown",
   "metadata": {},
   "source": [
    "Let's solve on the interval $[0,1]$, using both types of schemes:"
   ]
  },
  {
   "cell_type": "code",
   "metadata": {
    "ExecuteTime": {
     "end_time": "2025-09-04T22:49:19.356915Z",
     "start_time": "2025-09-04T22:49:19.354058Z"
    }
   },
   "source": [
    "h  =.1"
   ],
   "outputs": [],
   "execution_count": 19
  },
  {
   "cell_type": "code",
   "metadata": {
    "ExecuteTime": {
     "end_time": "2025-09-04T22:49:20.124537Z",
     "start_time": "2025-09-04T22:49:20.121872Z"
    }
   },
   "source": [
    "num_steps = int(np.ceil(1./h)) #The np.ceil is defensive coding: what if h doesn't divide [0,1] evenly\n",
    "print(num_steps)\n",
    "t = np.linspace(0,1,num_steps+1)\n",
    "h = 1./num_steps #This updates h to account for the possibility that it changed due to np.ceil."
   ],
   "outputs": [
    {
     "name": "stdout",
     "output_type": "stream",
     "text": [
      "10\n"
     ]
    }
   ],
   "execution_count": 20
  },
  {
   "cell_type": "code",
   "metadata": {
    "ExecuteTime": {
     "end_time": "2025-09-04T22:49:21.196745Z",
     "start_time": "2025-09-04T22:49:21.193593Z"
    }
   },
   "source": [
    "print(t)"
   ],
   "outputs": [
    {
     "name": "stdout",
     "output_type": "stream",
     "text": [
      "[0.  0.1 0.2 0.3 0.4 0.5 0.6 0.7 0.8 0.9 1. ]\n"
     ]
    }
   ],
   "execution_count": 21
  },
  {
   "cell_type": "code",
   "metadata": {
    "ExecuteTime": {
     "end_time": "2025-09-04T22:49:21.906Z",
     "start_time": "2025-09-04T22:49:21.903751Z"
    }
   },
   "source": [
    "x = np.zeros(t.shape)"
   ],
   "outputs": [],
   "execution_count": 22
  },
  {
   "cell_type": "code",
   "metadata": {
    "ExecuteTime": {
     "end_time": "2025-09-04T22:49:22.494882Z",
     "start_time": "2025-09-04T22:49:22.492393Z"
    }
   },
   "source": [
    "print(x)"
   ],
   "outputs": [
    {
     "name": "stdout",
     "output_type": "stream",
     "text": [
      "[0. 0. 0. 0. 0. 0. 0. 0. 0. 0. 0.]\n"
     ]
    }
   ],
   "execution_count": 23
  },
  {
   "cell_type": "code",
   "metadata": {
    "ExecuteTime": {
     "end_time": "2025-09-04T22:49:23.384878Z",
     "start_time": "2025-09-04T22:49:23.382175Z"
    }
   },
   "source": [
    "x[0] = 1."
   ],
   "outputs": [],
   "execution_count": 24
  },
  {
   "cell_type": "code",
   "metadata": {
    "ExecuteTime": {
     "end_time": "2025-09-04T22:49:34.854920Z",
     "start_time": "2025-09-04T22:49:34.852473Z"
    }
   },
   "source": [
    "for i in range(len(x)-1):\n",
    "    x[i+1] = x[i]/(1-h)# + h*x[i]"
   ],
   "outputs": [],
   "execution_count": 25
  },
  {
   "cell_type": "code",
   "metadata": {
    "ExecuteTime": {
     "end_time": "2025-09-04T22:49:35.693482Z",
     "start_time": "2025-09-04T22:49:35.690961Z"
    }
   },
   "source": [
    "print(x)"
   ],
   "outputs": [
    {
     "name": "stdout",
     "output_type": "stream",
     "text": [
      "[1.         1.11111111 1.2345679  1.37174211 1.5241579  1.69350878\n",
      " 1.88167642 2.09075158 2.32305731 2.58117479 2.86797199]\n"
     ]
    }
   ],
   "execution_count": 26
  },
  {
   "cell_type": "code",
   "metadata": {
    "ExecuteTime": {
     "end_time": "2025-09-04T22:49:36.768648Z",
     "start_time": "2025-09-04T22:49:36.765823Z"
    }
   },
   "source": [
    "print(np.exp(t))"
   ],
   "outputs": [
    {
     "name": "stdout",
     "output_type": "stream",
     "text": [
      "[1.         1.10517092 1.22140276 1.34985881 1.4918247  1.64872127\n",
      " 1.8221188  2.01375271 2.22554093 2.45960311 2.71828183]\n"
     ]
    }
   ],
   "execution_count": 27
  },
  {
   "cell_type": "code",
   "execution_count": 28,
   "metadata": {},
   "outputs": [
    {
     "data": {
      "image/png": "[encoded data removed]",
      "text/plain": [
       "<Figure size 432x288 with 1 Axes>"
      ]
     },
     "metadata": {
      "needs_background": "light"
     },
     "output_type": "display_data"
    }
   ],
   "source": [
    "import matplotlib.pyplot as plt\n",
    "\n",
    "\n",
    "fig, ax = plt.subplots()\n",
    "\n",
    "line1, = ax.plot(t, x, label='Backward Euler Steps')\n",
    "line2, = ax.plot(t,np.exp(t), label='Exact solution')\n",
    "ax.legend()\n",
    "plt.show()"
   ]
  },
  {
   "cell_type": "markdown",
   "metadata": {},
   "source": [
    "We can make these solvers much more efficient by using matrices:\n",
    "$x_{i+1} = x_{i} + hx_i, x_0 = 1$\n",
    "$\\begin{pmatrix} 1 & 0 & 0 & ... \\\\ -1-h & 1 & 0 & ... \\\\ 0 & -1-h & 1 & ... \\\\ \\vdots \\end{pmatrix} \\begin{pmatrix} x_0 \\\\ x_1 \\\\ \\vdots \\\\ x_n \\end{pmatrix} = \\begin{pmatrix} 1  \\\\ 0 \\\\ \\vdots \\end{pmatrix}$"
   ]
  },
  {
   "cell_type": "code",
   "metadata": {
    "ExecuteTime": {
     "end_time": "2025-09-04T23:55:19.257804Z",
     "start_time": "2025-09-04T23:55:19.254280Z"
    }
   },
   "source": [
    "A = np.eye(len(t))\n",
    "B = np.diag((-1-h)*np.ones(len(t)-1),-1)\n",
    "sol_Mat = A + B\n",
    "b = np.zeros(len(t))\n",
    "b[0] = 1.\n",
    "x_sol = la.solve(sol_Mat,b)"
   ],
   "outputs": [],
   "execution_count": 31
  },
  {
   "cell_type": "markdown",
   "metadata": {},
   "source": []
  },
  {
   "cell_type": "code",
   "metadata": {
    "ExecuteTime": {
     "end_time": "2025-09-04T23:55:20.385451Z",
     "start_time": "2025-09-04T23:55:20.335056Z"
    }
   },
   "source": [
    "import matplotlib.pyplot as plt\n",
    "\n",
    "\n",
    "fig, ax = plt.subplots()\n",
    "\n",
    "line1, = ax.plot(t, x_sol, label='Forward Euler Steps')\n",
    "line2, = ax.plot(t,np.exp(t), label='Exact solution')\n",
    "ax.legend()\n",
    "plt.show()"
   ],
   "outputs": [
    {
     "data": {
      "text/plain": [
       "<Figure size 640x480 with 1 Axes>"
      ],
      "image/png": "[encoded data removed]"
     },
     "metadata": {},
     "output_type": "display_data"
    }
   ],
   "execution_count": 32
  },
  {
   "cell_type": "markdown",
   "metadata": {},
   "source": [
    "There are packages which automatically solve the ODEs that we are interested in. We will often use them. scipy.integrate.odeint is one of them."
   ]
  },
  {
   "cell_type": "code",
   "metadata": {
    "ExecuteTime": {
     "end_time": "2025-09-04T23:55:22.384481Z",
     "start_time": "2025-09-04T23:55:22.382159Z"
    }
   },
   "source": [
    "def RHS(x,t):\n",
    "\n",
    "\n",
    "    dydt = x\n",
    "\n",
    "    return dydt\n",
    "\n",
    "y0 = 1.\n",
    "from scipy.integrate import odeint\n",
    "\n",
    "sol = odeint(RHS, y0, t)"
   ],
   "outputs": [],
   "execution_count": 33
  },
  {
   "cell_type": "code",
   "metadata": {
    "ExecuteTime": {
     "end_time": "2025-09-04T23:55:23.501811Z",
     "start_time": "2025-09-04T23:55:23.446512Z"
    }
   },
   "source": [
    "plt.plot(t, sol[:], 'b', label='odeint-solution')\n",
    "\n",
    "plt.plot(t, np.exp(t), 'g', label='exact solution')\n",
    "\n",
    "plt.legend(loc='best')\n",
    "\n",
    "plt.xlabel('t')\n",
    "\n",
    "plt.grid()\n",
    "\n",
    "plt.show()"
   ],
   "outputs": [
    {
     "data": {
      "text/plain": [
       "<Figure size 640x480 with 1 Axes>"
      ],
      "image/png": "[encoded data removed]"
     },
     "metadata": {},
     "output_type": "display_data"
    }
   ],
   "execution_count": 34
  },
  {
   "cell_type": "markdown",
   "metadata": {},
   "source": [
    "Homework problem: Solve the equation $x' = x + sin(t)$, with $x(0) = -1/2$, using both forward and backward differences, on the interval $[0,5]$. The exact solution is $-cos(t)/2 - sin(t)/2$. Plot your solutions compared to the true solution. Use matrices. Write a function which takes step size as an input and solves the equation. Also, solve the same equation using odeint."
   ]
  },
  {
   "cell_type": "code",
   "execution_count": null,
   "metadata": {},
   "outputs": [],
   "source": []
  },
  {
   "cell_type": "code",
   "execution_count": null,
   "metadata": {},
   "outputs": [],
   "source": []
  },
  {
   "cell_type": "code",
   "execution_count": null,
   "metadata": {},
   "outputs": [],
   "source": []
  }
 ],
 "metadata": {
  "kernelspec": {
   "display_name": "Python 3",
   "language": "python",
   "name": "python3"
  },
  "language_info": {
   "codemirror_mode": {
    "name": "ipython",
    "version": 3
   },
   "file_extension": ".py",
   "mimetype": "text/x-python",
   "name": "python",
   "nbconvert_exporter": "python",
   "pygments_lexer": "ipython3",
   "version": "3.8.3"
  }
 },
 "nbformat": 4,
 "nbformat_minor": 2
}
